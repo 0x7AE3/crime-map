{
 "cells": [
  {
   "cell_type": "code",
   "execution_count": 1,
   "id": "d3bafea8",
   "metadata": {
    "collapsed": true
   },
   "outputs": [],
   "source": [
    "# do any pip installs in this cell"
   ]
  },
  {
   "cell_type": "code",
   "execution_count": 2,
   "id": "4f11413d",
   "metadata": {},
   "outputs": [
    {
     "name": "stdout",
     "output_type": "stream",
     "text": [
      "Defaulting to user installation because normal site-packages is not writeable\n",
      "Collecting folium\n",
      "  Downloading folium-0.14.0-py2.py3-none-any.whl (102 kB)\n",
      "\u001b[2K     \u001b[38;2;114;156;31m━━━━━━━━━━━━━━━━━━━━━━━━━━━━━━━━━━━━━━\u001b[0m \u001b[32m102.3/102.3 kB\u001b[0m \u001b[31m52.7 kB/s\u001b[0m eta \u001b[36m0:00:00\u001b[0m kB/s\u001b[0m eta \u001b[36m0:00:01\u001b[0m:02\u001b[0m\n",
      "\u001b[?25hCollecting branca>=0.6.0 (from folium)\n",
      "  Downloading branca-0.6.0-py3-none-any.whl (24 kB)\n",
      "Requirement already satisfied: jinja2>=2.9 in /home/aneesh/.local/lib/python3.11/site-packages (from folium) (3.1.2)\n",
      "Requirement already satisfied: numpy in /home/aneesh/.local/lib/python3.11/site-packages (from folium) (1.24.3)\n",
      "Requirement already satisfied: requests in /home/aneesh/.local/lib/python3.11/site-packages (from folium) (2.31.0)\n",
      "Requirement already satisfied: MarkupSafe>=2.0 in /home/aneesh/.local/lib/python3.11/site-packages (from jinja2>=2.9->folium) (2.1.3)\n",
      "Requirement already satisfied: charset-normalizer<4,>=2 in /usr/lib/python3.11/site-packages (from requests->folium) (3.1.0)\n",
      "Requirement already satisfied: idna<4,>=2.5 in /usr/lib/python3.11/site-packages (from requests->folium) (3.4)\n",
      "Requirement already satisfied: urllib3<3,>=1.21.1 in /usr/lib/python3.11/site-packages (from requests->folium) (2.0.2)\n",
      "Requirement already satisfied: certifi>=2017.4.17 in /usr/lib/python3.11/site-packages (from requests->folium) (2023.5.7)\n",
      "Installing collected packages: branca, folium\n",
      "Successfully installed branca-0.6.0 folium-0.14.0\n"
     ]
    }
   ],
   "source": [
    "!python -m pip install folium"
   ]
  },
  {
   "cell_type": "code",
   "execution_count": 3,
   "id": "1b096cb7",
   "metadata": {},
   "outputs": [],
   "source": [
    "import requests\n",
    "from bs4 import BeautifulSoup\n",
    "import time\n",
    "import json\n",
    "import os\n",
    "\n",
    "import numpy as np\n",
    "import pandas as pd\n",
    "import matplotlib.pyplot as plt\n",
    "from IPython.display import Image\n",
    "import folium\n",
    "from folium.plugins import FastMarkerCluster"
   ]
  },
  {
   "cell_type": "code",
   "execution_count": 4,
   "id": "a7dee6f3",
   "metadata": {},
   "outputs": [
    {
     "name": "stdout",
     "output_type": "stream",
     "text": [
      "True\n"
     ]
    }
   ],
   "source": [
    "APIDATA_EXISTS = os.path.isfile('apidata.json')\n",
    "\n",
    "print(APIDATA_EXISTS)"
   ]
  },
  {
   "cell_type": "code",
   "execution_count": 4,
   "id": "164d51bf",
   "metadata": {},
   "outputs": [],
   "source": [
    "# pull addresses\n",
    "\n",
    "url = 'https://www.wrtv.com/news/local-news/crime/people-weve-lost-these-are-the-indianapolis-homicide-victims-of-2022'\n",
    "\n",
    "html = requests.get(url).content\n",
    "soup = BeautifulSoup(html)\n",
    "\n",
    "# print(soup)"
   ]
  },
  {
   "cell_type": "code",
   "execution_count": 5,
   "id": "ff0a7919",
   "metadata": {},
   "outputs": [
    {
     "name": "stdout",
     "output_type": "stream",
     "text": [
      "215\n"
     ]
    }
   ],
   "source": [
    "# parse addresses\n",
    "\n",
    "paragraphs = soup.find_all('p')\n",
    "paragraphs = list(filter(lambda p: len(p.contents) > 10, paragraphs))\n",
    "\n",
    "addresses = [paragraph.contents[6].text if (not paragraph.contents[6].text.startswith('What happened:')) else paragraph.contents[4].text for paragraph in paragraphs]\n",
    "addresses = list(filter(lambda addr: addr != 'Unknown location', addresses))\n",
    "\n",
    "# as a sanity check, the below should not contain entries like \"What happened:\", only addresses without digits\n",
    "bad_addr = list(filter(lambda addr: sum([not ch.isdigit() for ch in addr]) == len(addr), addresses))\n",
    "\n",
    "print(len(addresses)) # Should be 216 per the article, but is actually 215 because of one unknown address"
   ]
  },
  {
   "cell_type": "code",
   "execution_count": 5,
   "id": "d0fbfb8e",
   "metadata": {},
   "outputs": [
    {
     "name": "stdout",
     "output_type": "stream",
     "text": [
      "apidata.json loaded into memory\n"
     ]
    }
   ],
   "source": [
    "# convert addresses to longitude/lattitude\n",
    "# if APIDATA_EXISTS is False, query the API; otherwise, read from apidata.json\n",
    "\n",
    "if not APIDATA_EXISTS:\n",
    "    apidata = []\n",
    "    url = 'https://maps.googleapis.com/maps/api/geocode/json?address={}&key={}'\n",
    "    API_KEY = 'go find one' # available on Google Cloud\n",
    "\n",
    "    for _ in range(len(addresses)):\n",
    "        address = requests.utils.quote(addresses[_] + ', Indiana')\n",
    "\n",
    "        resp = requests.get(url.format(address, API_KEY))\n",
    "        resp = json.loads(resp.text)\n",
    "\n",
    "        apidata.append(resp)\n",
    "\n",
    "        if _ % 10 == 0:\n",
    "            print(f'Finished Address {_}/{len(addresses)}; Waiting 1 Second')\n",
    "            time.sleep(1)\n",
    "    print(f'Finished Address {len(addresses)}/{len(addresses)}; Backing up to apidata.json')\n",
    "    \n",
    "    with open('apidata.json', 'w') as f:\n",
    "        json.dump(apidata, f, indent=4) # backups results of maps api to apidata.json\n",
    "        \n",
    "else:\n",
    "    with open('apidata.json') as f:\n",
    "        apidata = json.load(f)\n",
    "    print('apidata.json loaded into memory')"
   ]
  },
  {
   "cell_type": "code",
   "execution_count": 6,
   "id": "9db81ba6",
   "metadata": {},
   "outputs": [],
   "source": [
    "# extracts coordinates from apidata into geolocs\n",
    "\n",
    "geolocs = []\n",
    "\n",
    "for resp in apidata:\n",
    "    coords = resp['results'][0]['geometry']['location']\n",
    "    geolocs.append((coords['lat'], coords['lng']))\n",
    "    \n",
    "# print(geolocs)"
   ]
  },
  {
   "cell_type": "code",
   "execution_count": 8,
   "id": "f164ca0b",
   "metadata": {},
   "outputs": [
    {
     "data": {
      "text/html": [
       "<div style=\"width:100%;\"><div style=\"position:relative;width:100%;height:0;padding-bottom:60%;\"><span style=\"color:#565656\">Make this Notebook Trusted to load map: File -> Trust Notebook</span><iframe srcdoc=\"&lt;!DOCTYPE html&gt;\n",
       "&lt;html&gt;\n",
       "&lt;head&gt;\n",
       "    \n",
       "    &lt;meta http-equiv=&quot;content-type&quot; content=&quot;text/html; charset=UTF-8&quot; /&gt;\n",
       "    \n",
       "        &lt;script&gt;\n",
       "            L_NO_TOUCH = false;\n",
       "            L_DISABLE_3D = false;\n",
       "        &lt;/script&gt;\n",
       "    \n",
       "    &lt;style&gt;html, body {width: 100%;height: 100%;margin: 0;padding: 0;}&lt;/style&gt;\n",
       "    &lt;style&gt;#map {position:absolute;top:0;bottom:0;right:0;left:0;}&lt;/style&gt;\n",
       "    &lt;script src=&quot;https://cdn.jsdelivr.net/npm/leaflet@1.9.3/dist/leaflet.js&quot;&gt;&lt;/script&gt;\n",
       "    &lt;script src=&quot;https://code.jquery.com/jquery-1.12.4.min.js&quot;&gt;&lt;/script&gt;\n",
       "    &lt;script src=&quot;https://cdn.jsdelivr.net/npm/bootstrap@5.2.2/dist/js/bootstrap.bundle.min.js&quot;&gt;&lt;/script&gt;\n",
       "    &lt;script src=&quot;https://cdnjs.cloudflare.com/ajax/libs/Leaflet.awesome-markers/2.0.2/leaflet.awesome-markers.js&quot;&gt;&lt;/script&gt;\n",
       "    &lt;link rel=&quot;stylesheet&quot; href=&quot;https://cdn.jsdelivr.net/npm/leaflet@1.9.3/dist/leaflet.css&quot;/&gt;\n",
       "    &lt;link rel=&quot;stylesheet&quot; href=&quot;https://cdn.jsdelivr.net/npm/bootstrap@5.2.2/dist/css/bootstrap.min.css&quot;/&gt;\n",
       "    &lt;link rel=&quot;stylesheet&quot; href=&quot;https://netdna.bootstrapcdn.com/bootstrap/3.0.0/css/bootstrap.min.css&quot;/&gt;\n",
       "    &lt;link rel=&quot;stylesheet&quot; href=&quot;https://cdn.jsdelivr.net/npm/@fortawesome/fontawesome-free@6.2.0/css/all.min.css&quot;/&gt;\n",
       "    &lt;link rel=&quot;stylesheet&quot; href=&quot;https://cdnjs.cloudflare.com/ajax/libs/Leaflet.awesome-markers/2.0.2/leaflet.awesome-markers.css&quot;/&gt;\n",
       "    &lt;link rel=&quot;stylesheet&quot; href=&quot;https://cdn.jsdelivr.net/gh/python-visualization/folium/folium/templates/leaflet.awesome.rotate.min.css&quot;/&gt;\n",
       "    \n",
       "            &lt;meta name=&quot;viewport&quot; content=&quot;width=device-width,\n",
       "                initial-scale=1.0, maximum-scale=1.0, user-scalable=no&quot; /&gt;\n",
       "            &lt;style&gt;\n",
       "                #map_1351acb25a7ec1f9e072fb16195c7624 {\n",
       "                    position: relative;\n",
       "                    width: 100.0%;\n",
       "                    height: 100.0%;\n",
       "                    left: 0.0%;\n",
       "                    top: 0.0%;\n",
       "                }\n",
       "                .leaflet-container { font-size: 1rem; }\n",
       "            &lt;/style&gt;\n",
       "        \n",
       "    &lt;script src=&quot;https://cdnjs.cloudflare.com/ajax/libs/leaflet.markercluster/1.1.0/leaflet.markercluster.js&quot;&gt;&lt;/script&gt;\n",
       "    &lt;link rel=&quot;stylesheet&quot; href=&quot;https://cdnjs.cloudflare.com/ajax/libs/leaflet.markercluster/1.1.0/MarkerCluster.css&quot;/&gt;\n",
       "    &lt;link rel=&quot;stylesheet&quot; href=&quot;https://cdnjs.cloudflare.com/ajax/libs/leaflet.markercluster/1.1.0/MarkerCluster.Default.css&quot;/&gt;\n",
       "&lt;/head&gt;\n",
       "&lt;body&gt;\n",
       "    \n",
       "    \n",
       "            &lt;div class=&quot;folium-map&quot; id=&quot;map_1351acb25a7ec1f9e072fb16195c7624&quot; &gt;&lt;/div&gt;\n",
       "        \n",
       "&lt;/body&gt;\n",
       "&lt;script&gt;\n",
       "    \n",
       "    \n",
       "            var map_1351acb25a7ec1f9e072fb16195c7624 = L.map(\n",
       "                &quot;map_1351acb25a7ec1f9e072fb16195c7624&quot;,\n",
       "                {\n",
       "                    center: [39.8018709, -86.0550375],\n",
       "                    crs: L.CRS.EPSG3857,\n",
       "                    zoom: 13,\n",
       "                    zoomControl: true,\n",
       "                    preferCanvas: true,\n",
       "                }\n",
       "            );\n",
       "\n",
       "            \n",
       "\n",
       "        \n",
       "    \n",
       "            var tile_layer_57032c5e2e5e8a09092343d51fa27179 = L.tileLayer(\n",
       "                &quot;https://{s}.tile.openstreetmap.org/{z}/{x}/{y}.png&quot;,\n",
       "                {&quot;attribution&quot;: &quot;Data by \\u0026copy; \\u003ca target=\\&quot;_blank\\&quot; href=\\&quot;http://openstreetmap.org\\&quot;\\u003eOpenStreetMap\\u003c/a\\u003e, under \\u003ca target=\\&quot;_blank\\&quot; href=\\&quot;http://www.openstreetmap.org/copyright\\&quot;\\u003eODbL\\u003c/a\\u003e.&quot;, &quot;detectRetina&quot;: false, &quot;maxNativeZoom&quot;: 18, &quot;maxZoom&quot;: 18, &quot;minZoom&quot;: 0, &quot;noWrap&quot;: false, &quot;opacity&quot;: 1, &quot;subdomains&quot;: &quot;abc&quot;, &quot;tms&quot;: false}\n",
       "            ).addTo(map_1351acb25a7ec1f9e072fb16195c7624);\n",
       "        \n",
       "    \n",
       "            var fast_marker_cluster_92cb11b9a805a3a86afcfd63aa56f0a7 = (function(){\n",
       "                \n",
       "                var callback = function (row) {\n",
       "                    var icon = L.AwesomeMarkers.icon();\n",
       "                    var marker = L.marker(new L.LatLng(row[0], row[1]));\n",
       "                    marker.setIcon(icon);\n",
       "                    return marker;\n",
       "                };\n",
       "\n",
       "                var data = [[39.8018709, -86.0550375], [39.8018709, -86.0550375], [39.7994849, -86.1419215], [39.8218589, -86.1099188], [39.8234822, -86.1521162], [39.8083062, -86.1679545], [39.76065699999999, -86.0325819], [39.8384234, -86.23869110000001], [39.7888625, -86.12790179999999], [39.71645540000001, -86.11740209999999], [39.8183871, -86.0818992], [39.7464861, -86.0853381], [39.8257962, -86.10612479999999], [39.8182084, -86.0990396], [39.6901243, -86.2399081], [39.8033778, -86.1310365], [39.8293917, -86.0836782], [39.78114009999999, -86.2072759], [39.8110104, -86.0645969], [40.2671941, -86.1349019], [39.8254981, -86.08371199999999], [39.7669542, -86.1407993], [39.7963142, -86.0667732], [39.8224419, -86.15743499999999], [39.8224419, -86.15743499999999], [39.83006839999999, -86.00651049999999], [39.7830526, -86.2587726], [39.8162234, -86.2701596], [39.7967818, -86.0005458], [39.7696912, -86.0925599], [39.8154625, -86.1015699], [39.7230383, -86.1320712], [39.7710979, -86.09402279999999], [39.8068047, -86.1072626], [39.7766348, -86.20380639999999], [39.8260952, -86.00986499999999], [39.8046307, -86.124206], [39.8046307, -86.124206], [39.7680318, -86.20412619999999], [39.8254424, -86.124595], [39.8233632, -86.120055], [39.766336, -86.10210479999999], [39.7704079, -86.078332], [39.7926304, -86.1276178], [39.7744358, -86.1176737], [39.7814687, -86.0916439], [39.80549449999999, -86.1075104], [39.8084826, -86.14723049999999], [39.788498, -85.9713916], [39.7834477, -86.15942960000001], [39.78055639999999, -86.21312809999999], [39.8578717, -86.2478341], [39.7806849, -86.2038658], [39.7214207, -86.15392349999999], [39.7686151, -86.03902099999999], [39.8007626, -86.0881263], [39.8180874, -86.1228665], [39.8946512, -86.2157579], [39.782025, -86.150774], [39.8326546, -86.2710596], [39.8037381, -86.1707972], [39.7271407, -86.0494614], [39.7520159, -86.2626413], [39.7999586, -86.0739021], [39.7241704, -86.1541158], [39.8840248, -86.2099266], [39.7754175, -86.1541364], [39.7657512, -86.15796759999999], [39.7791805, -86.1082744], [39.8261111, -86.1088594], [39.7747314, -86.0974258], [39.78470859999999, -85.9879911], [39.7790555, -86.15422989999999], [39.8348826, -86.2560475], [39.899994, -86.0446599], [39.7616066, -86.2684587], [39.822023, -86.0784789], [39.8973568, -86.2158527], [39.8202034, -86.08192820000001], [39.8157915, -86.2957572], [39.7918914, -86.20304019999999], [39.7832435, -85.9533943], [39.8835692, -86.1970012], [39.8152657, -86.176358], [39.8332886, -86.2730639], [39.7527544, -86.098514], [39.6921109, -86.0793473], [39.709391, -86.09205109999999], [39.7740275, -86.15418860000001], [39.786629, -86.1280987], [39.8220876, -86.215959], [39.7927831, -86.0892533], [39.8355701, -86.05751649999999], [39.8130754, -86.12396059999999], [39.75105629999999, -86.1943797], [39.768403, -86.158068], [39.8403768, -86.0650752], [39.8219206, -86.099068], [39.8819895, -86.2145324], [39.8185575, -86.0909365], [39.8087662, -86.28232539999999], [39.7542854, -86.1258653], [39.8082952, -86.17297099999999], [39.6486262, -86.3150643], [39.7855476, -86.0971348], [39.7468391, -86.117735], [39.8184567, -86.1216729], [39.8082952, -86.17297099999999], [39.7950302, -86.0807634], [39.8106355, -86.302618], [39.816641, -86.25248920000001], [39.7568971, -86.1131273], [39.8659959, -86.11818219999999], [39.7997691, -86.10785299999999], [39.6859909, -86.1552292], [39.797072, -86.013001], [39.8267215, -85.9912063], [39.8266177, -85.9931271], [39.7763844, -86.1107755], [39.90863119999999, -86.1007052], [39.8314695, -86.01338919999999], [39.7231909, -86.1160347], [39.77212600000001, -86.0962035], [39.6890846, -86.0825241], [39.8349424, -85.9893764], [39.6674406, -86.25157039999999], [39.8349424, -85.9893764], [39.7714691, -86.15829629999999], [39.8211867, -86.15924079999999], [39.7461401, -86.12546080000001], [39.74650130000001, -86.2721933], [39.8184318, -86.0784894], [39.7911443, -86.1165627], [39.818089, -86.12570319999999], [39.818089, -86.12570319999999], [39.818089, -86.12570319999999], [39.8034078, -86.1024656], [39.7948037, -86.2733773], [39.8336412, -86.1105923], [39.8728416, -85.9436181], [39.85875410000001, -86.049317], [39.8078223, -86.21152479999999], [39.83570350000001, -86.2717809], [39.6386901, -86.1225697], [39.7750057, -86.1117978], [39.7423639, -86.31212610000001], [39.7423639, -86.31212610000001], [40.2671941, -86.1349019], [40.2671941, -86.1349019], [39.82962759999999, -86.0216303], [39.7921534, -86.1447505], [39.7785252, -86.2136546], [39.8353352, -86.00139589999999], [39.7176586, -86.12189099999999], [39.7285214, -86.1303011], [39.7242857, -86.1505622], [39.8474529, -86.2820907], [39.8474529, -86.2820907], [39.9001472, -86.3051883], [39.808805, -86.102982], [39.7912166, -86.180122], [39.81101, -86.0728512], [40.2671941, -86.1349019], [39.8272361, -86.17000320000001], [39.82833129999999, -86.28246419999999], [39.923877, -86.06095100000002], [39.7698103, -86.0616577], [39.8219915, -86.090215], [39.82577879999999, -86.02911499999999], [39.6521299, -86.1405936], [39.6521299, -86.1405936], [39.8786628, -85.9968562], [39.7814726, -86.090537], [39.8296319, -86.25860829999999], [39.7897763, -86.073831], [39.803836, -86.014339], [39.803836, -86.014339], [39.7890445, -86.1316772], [39.8159814, -86.0447418], [39.6171669, -86.4680076], [39.8023067, -86.1241665], [39.8322714, -86.2385218], [39.8180846, -86.1256867], [41.6666714, -86.1132348], [39.7912379, -86.1285431], [39.817484, -86.2507274], [39.7758527, -85.990365], [39.8043066, -86.14068689999999], [39.8261756, -86.3210637], [39.7590922, -86.2379641], [39.8043066, -86.14068689999999], [39.7898969, -86.20633], [39.7939202, -86.0270871], [39.8340603, -86.109194], [39.8017286, -86.26095950000001], [39.660142, -86.12320059999999], [39.8359759, -86.145151], [39.8342489, -86.07138839999999], [39.8352001, -85.98775189999999], [39.76115619999999, -86.2459356], [39.8080334, -86.1949419], [39.8229774, -86.04530489999999], [39.7744663, -86.262851], [39.6263645, -86.0826999], [39.7066006, -86.1103722], [39.8198979, -86.12695959999999], [39.7472278, -86.1966793], [39.8107114, -86.2143607], [39.7861461, -86.06785889999999], [39.7851799, -86.06071299999999], [39.7775197, -86.1842865], [39.78055639999999, -86.21312809999999], [39.7908706, -85.96912630000001], [39.7767048, -86.1983345], [39.7250057, -86.1521009]];\n",
       "                var cluster = L.markerClusterGroup({});\n",
       "\n",
       "                for (var i = 0; i &lt; data.length; i++) {\n",
       "                    var row = data[i];\n",
       "                    var marker = callback(row);\n",
       "                    marker.addTo(cluster);\n",
       "                }\n",
       "\n",
       "                cluster.addTo(map_1351acb25a7ec1f9e072fb16195c7624);\n",
       "                return cluster;\n",
       "            })();\n",
       "        \n",
       "&lt;/script&gt;\n",
       "&lt;/html&gt;\" style=\"position:absolute;width:100%;height:100%;left:0;top:0;border:none !important;\" allowfullscreen webkitallowfullscreen mozallowfullscreen></iframe></div></div>"
      ],
      "text/plain": [
       "<folium.folium.Map at 0x7f71e06bc850>"
      ]
     },
     "execution_count": 8,
     "metadata": {},
     "output_type": "execute_result"
    }
   ],
   "source": [
    "# plots coordinates on a map\n",
    "\n",
    "clustering = True\n",
    "\n",
    "homicide_map = folium.Map((geolocs[0][0], geolocs[0][1]), zoom_start=13, prefer_canvas=True)\n",
    "\n",
    "if clustering:\n",
    "    homicide_map.add_child(FastMarkerCluster(geolocs))\n",
    "else:\n",
    "    for pt in geolocs:\n",
    "        marker = folium.Marker([pt[0], pt[1]]) #latitude,longitude\n",
    "        homicide_map.add_child(marker) \n",
    "        \n",
    "homicide_map"
   ]
  },
  {
   "cell_type": "code",
   "execution_count": 9,
   "id": "4e4564d5",
   "metadata": {},
   "outputs": [
    {
     "name": "stdout",
     "output_type": "stream",
     "text": [
      "<div style=\"width:100%;\"><div style=\"position:relative;width:100%;height:0;padding-bottom:60%;\"><span style=\"color:#565656\">Make this Notebook Trusted to load map: File -> Trust Notebook</span><iframe srcdoc=\"&lt;!DOCTYPE html&gt;\n",
      "&lt;html&gt;\n",
      "&lt;head&gt;\n",
      "    \n",
      "    &lt;meta http-equiv=&quot;content-type&quot; content=&quot;text/html; charset=UTF-8&quot; /&gt;\n",
      "    \n",
      "        &lt;script&gt;\n",
      "            L_NO_TOUCH = false;\n",
      "            L_DISABLE_3D = false;\n",
      "        &lt;/script&gt;\n",
      "    \n",
      "    &lt;style&gt;html, body {width: 100%;height: 100%;margin: 0;padding: 0;}&lt;/style&gt;\n",
      "    &lt;style&gt;#map {position:absolute;top:0;bottom:0;right:0;left:0;}&lt;/style&gt;\n",
      "    &lt;script src=&quot;https://cdn.jsdelivr.net/npm/leaflet@1.9.3/dist/leaflet.js&quot;&gt;&lt;/script&gt;\n",
      "    &lt;script src=&quot;https://code.jquery.com/jquery-1.12.4.min.js&quot;&gt;&lt;/script&gt;\n",
      "    &lt;script src=&quot;https://cdn.jsdelivr.net/npm/bootstrap@5.2.2/dist/js/bootstrap.bundle.min.js&quot;&gt;&lt;/script&gt;\n",
      "    &lt;script src=&quot;https://cdnjs.cloudflare.com/ajax/libs/Leaflet.awesome-markers/2.0.2/leaflet.awesome-markers.js&quot;&gt;&lt;/script&gt;\n",
      "    &lt;link rel=&quot;stylesheet&quot; href=&quot;https://cdn.jsdelivr.net/npm/leaflet@1.9.3/dist/leaflet.css&quot;/&gt;\n",
      "    &lt;link rel=&quot;stylesheet&quot; href=&quot;https://cdn.jsdelivr.net/npm/bootstrap@5.2.2/dist/css/bootstrap.min.css&quot;/&gt;\n",
      "    &lt;link rel=&quot;stylesheet&quot; href=&quot;https://netdna.bootstrapcdn.com/bootstrap/3.0.0/css/bootstrap.min.css&quot;/&gt;\n",
      "    &lt;link rel=&quot;stylesheet&quot; href=&quot;https://cdn.jsdelivr.net/npm/@fortawesome/fontawesome-free@6.2.0/css/all.min.css&quot;/&gt;\n",
      "    &lt;link rel=&quot;stylesheet&quot; href=&quot;https://cdnjs.cloudflare.com/ajax/libs/Leaflet.awesome-markers/2.0.2/leaflet.awesome-markers.css&quot;/&gt;\n",
      "    &lt;link rel=&quot;stylesheet&quot; href=&quot;https://cdn.jsdelivr.net/gh/python-visualization/folium/folium/templates/leaflet.awesome.rotate.min.css&quot;/&gt;\n",
      "    \n",
      "            &lt;meta name=&quot;viewport&quot; content=&quot;width=device-width,\n",
      "                initial-scale=1.0, maximum-scale=1.0, user-scalable=no&quot; /&gt;\n",
      "            &lt;style&gt;\n",
      "                #map_1351acb25a7ec1f9e072fb16195c7624 {\n",
      "                    position: relative;\n",
      "                    width: 100.0%;\n",
      "                    height: 100.0%;\n",
      "                    left: 0.0%;\n",
      "                    top: 0.0%;\n",
      "                }\n",
      "                .leaflet-container { font-size: 1rem; }\n",
      "            &lt;/style&gt;\n",
      "        \n",
      "    &lt;script src=&quot;https://cdnjs.cloudflare.com/ajax/libs/leaflet.markercluster/1.1.0/leaflet.markercluster.js&quot;&gt;&lt;/script&gt;\n",
      "    &lt;link rel=&quot;stylesheet&quot; href=&quot;https://cdnjs.cloudflare.com/ajax/libs/leaflet.markercluster/1.1.0/MarkerCluster.css&quot;/&gt;\n",
      "    &lt;link rel=&quot;stylesheet&quot; href=&quot;https://cdnjs.cloudflare.com/ajax/libs/leaflet.markercluster/1.1.0/MarkerCluster.Default.css&quot;/&gt;\n",
      "&lt;/head&gt;\n",
      "&lt;body&gt;\n",
      "    \n",
      "    \n",
      "            &lt;div class=&quot;folium-map&quot; id=&quot;map_1351acb25a7ec1f9e072fb16195c7624&quot; &gt;&lt;/div&gt;\n",
      "        \n",
      "&lt;/body&gt;\n",
      "&lt;script&gt;\n",
      "    \n",
      "    \n",
      "            var map_1351acb25a7ec1f9e072fb16195c7624 = L.map(\n",
      "                &quot;map_1351acb25a7ec1f9e072fb16195c7624&quot;,\n",
      "                {\n",
      "                    center: [39.8018709, -86.0550375],\n",
      "                    crs: L.CRS.EPSG3857,\n",
      "                    zoom: 13,\n",
      "                    zoomControl: true,\n",
      "                    preferCanvas: true,\n",
      "                }\n",
      "            );\n",
      "\n",
      "            \n",
      "\n",
      "        \n",
      "    \n",
      "            var tile_layer_57032c5e2e5e8a09092343d51fa27179 = L.tileLayer(\n",
      "                &quot;https://{s}.tile.openstreetmap.org/{z}/{x}/{y}.png&quot;,\n",
      "                {&quot;attribution&quot;: &quot;Data by \\u0026copy; \\u003ca target=\\&quot;_blank\\&quot; href=\\&quot;http://openstreetmap.org\\&quot;\\u003eOpenStreetMap\\u003c/a\\u003e, under \\u003ca target=\\&quot;_blank\\&quot; href=\\&quot;http://www.openstreetmap.org/copyright\\&quot;\\u003eODbL\\u003c/a\\u003e.&quot;, &quot;detectRetina&quot;: false, &quot;maxNativeZoom&quot;: 18, &quot;maxZoom&quot;: 18, &quot;minZoom&quot;: 0, &quot;noWrap&quot;: false, &quot;opacity&quot;: 1, &quot;subdomains&quot;: &quot;abc&quot;, &quot;tms&quot;: false}\n",
      "            ).addTo(map_1351acb25a7ec1f9e072fb16195c7624);\n",
      "        \n",
      "    \n",
      "            var fast_marker_cluster_92cb11b9a805a3a86afcfd63aa56f0a7 = (function(){\n",
      "                \n",
      "                var callback = function (row) {\n",
      "                    var icon = L.AwesomeMarkers.icon();\n",
      "                    var marker = L.marker(new L.LatLng(row[0], row[1]));\n",
      "                    marker.setIcon(icon);\n",
      "                    return marker;\n",
      "                };\n",
      "\n",
      "                var data = [[39.8018709, -86.0550375], [39.8018709, -86.0550375], [39.7994849, -86.1419215], [39.8218589, -86.1099188], [39.8234822, -86.1521162], [39.8083062, -86.1679545], [39.76065699999999, -86.0325819], [39.8384234, -86.23869110000001], [39.7888625, -86.12790179999999], [39.71645540000001, -86.11740209999999], [39.8183871, -86.0818992], [39.7464861, -86.0853381], [39.8257962, -86.10612479999999], [39.8182084, -86.0990396], [39.6901243, -86.2399081], [39.8033778, -86.1310365], [39.8293917, -86.0836782], [39.78114009999999, -86.2072759], [39.8110104, -86.0645969], [40.2671941, -86.1349019], [39.8254981, -86.08371199999999], [39.7669542, -86.1407993], [39.7963142, -86.0667732], [39.8224419, -86.15743499999999], [39.8224419, -86.15743499999999], [39.83006839999999, -86.00651049999999], [39.7830526, -86.2587726], [39.8162234, -86.2701596], [39.7967818, -86.0005458], [39.7696912, -86.0925599], [39.8154625, -86.1015699], [39.7230383, -86.1320712], [39.7710979, -86.09402279999999], [39.8068047, -86.1072626], [39.7766348, -86.20380639999999], [39.8260952, -86.00986499999999], [39.8046307, -86.124206], [39.8046307, -86.124206], [39.7680318, -86.20412619999999], [39.8254424, -86.124595], [39.8233632, -86.120055], [39.766336, -86.10210479999999], [39.7704079, -86.078332], [39.7926304, -86.1276178], [39.7744358, -86.1176737], [39.7814687, -86.0916439], [39.80549449999999, -86.1075104], [39.8084826, -86.14723049999999], [39.788498, -85.9713916], [39.7834477, -86.15942960000001], [39.78055639999999, -86.21312809999999], [39.8578717, -86.2478341], [39.7806849, -86.2038658], [39.7214207, -86.15392349999999], [39.7686151, -86.03902099999999], [39.8007626, -86.0881263], [39.8180874, -86.1228665], [39.8946512, -86.2157579], [39.782025, -86.150774], [39.8326546, -86.2710596], [39.8037381, -86.1707972], [39.7271407, -86.0494614], [39.7520159, -86.2626413], [39.7999586, -86.0739021], [39.7241704, -86.1541158], [39.8840248, -86.2099266], [39.7754175, -86.1541364], [39.7657512, -86.15796759999999], [39.7791805, -86.1082744], [39.8261111, -86.1088594], [39.7747314, -86.0974258], [39.78470859999999, -85.9879911], [39.7790555, -86.15422989999999], [39.8348826, -86.2560475], [39.899994, -86.0446599], [39.7616066, -86.2684587], [39.822023, -86.0784789], [39.8973568, -86.2158527], [39.8202034, -86.08192820000001], [39.8157915, -86.2957572], [39.7918914, -86.20304019999999], [39.7832435, -85.9533943], [39.8835692, -86.1970012], [39.8152657, -86.176358], [39.8332886, -86.2730639], [39.7527544, -86.098514], [39.6921109, -86.0793473], [39.709391, -86.09205109999999], [39.7740275, -86.15418860000001], [39.786629, -86.1280987], [39.8220876, -86.215959], [39.7927831, -86.0892533], [39.8355701, -86.05751649999999], [39.8130754, -86.12396059999999], [39.75105629999999, -86.1943797], [39.768403, -86.158068], [39.8403768, -86.0650752], [39.8219206, -86.099068], [39.8819895, -86.2145324], [39.8185575, -86.0909365], [39.8087662, -86.28232539999999], [39.7542854, -86.1258653], [39.8082952, -86.17297099999999], [39.6486262, -86.3150643], [39.7855476, -86.0971348], [39.7468391, -86.117735], [39.8184567, -86.1216729], [39.8082952, -86.17297099999999], [39.7950302, -86.0807634], [39.8106355, -86.302618], [39.816641, -86.25248920000001], [39.7568971, -86.1131273], [39.8659959, -86.11818219999999], [39.7997691, -86.10785299999999], [39.6859909, -86.1552292], [39.797072, -86.013001], [39.8267215, -85.9912063], [39.8266177, -85.9931271], [39.7763844, -86.1107755], [39.90863119999999, -86.1007052], [39.8314695, -86.01338919999999], [39.7231909, -86.1160347], [39.77212600000001, -86.0962035], [39.6890846, -86.0825241], [39.8349424, -85.9893764], [39.6674406, -86.25157039999999], [39.8349424, -85.9893764], [39.7714691, -86.15829629999999], [39.8211867, -86.15924079999999], [39.7461401, -86.12546080000001], [39.74650130000001, -86.2721933], [39.8184318, -86.0784894], [39.7911443, -86.1165627], [39.818089, -86.12570319999999], [39.818089, -86.12570319999999], [39.818089, -86.12570319999999], [39.8034078, -86.1024656], [39.7948037, -86.2733773], [39.8336412, -86.1105923], [39.8728416, -85.9436181], [39.85875410000001, -86.049317], [39.8078223, -86.21152479999999], [39.83570350000001, -86.2717809], [39.6386901, -86.1225697], [39.7750057, -86.1117978], [39.7423639, -86.31212610000001], [39.7423639, -86.31212610000001], [40.2671941, -86.1349019], [40.2671941, -86.1349019], [39.82962759999999, -86.0216303], [39.7921534, -86.1447505], [39.7785252, -86.2136546], [39.8353352, -86.00139589999999], [39.7176586, -86.12189099999999], [39.7285214, -86.1303011], [39.7242857, -86.1505622], [39.8474529, -86.2820907], [39.8474529, -86.2820907], [39.9001472, -86.3051883], [39.808805, -86.102982], [39.7912166, -86.180122], [39.81101, -86.0728512], [40.2671941, -86.1349019], [39.8272361, -86.17000320000001], [39.82833129999999, -86.28246419999999], [39.923877, -86.06095100000002], [39.7698103, -86.0616577], [39.8219915, -86.090215], [39.82577879999999, -86.02911499999999], [39.6521299, -86.1405936], [39.6521299, -86.1405936], [39.8786628, -85.9968562], [39.7814726, -86.090537], [39.8296319, -86.25860829999999], [39.7897763, -86.073831], [39.803836, -86.014339], [39.803836, -86.014339], [39.7890445, -86.1316772], [39.8159814, -86.0447418], [39.6171669, -86.4680076], [39.8023067, -86.1241665], [39.8322714, -86.2385218], [39.8180846, -86.1256867], [41.6666714, -86.1132348], [39.7912379, -86.1285431], [39.817484, -86.2507274], [39.7758527, -85.990365], [39.8043066, -86.14068689999999], [39.8261756, -86.3210637], [39.7590922, -86.2379641], [39.8043066, -86.14068689999999], [39.7898969, -86.20633], [39.7939202, -86.0270871], [39.8340603, -86.109194], [39.8017286, -86.26095950000001], [39.660142, -86.12320059999999], [39.8359759, -86.145151], [39.8342489, -86.07138839999999], [39.8352001, -85.98775189999999], [39.76115619999999, -86.2459356], [39.8080334, -86.1949419], [39.8229774, -86.04530489999999], [39.7744663, -86.262851], [39.6263645, -86.0826999], [39.7066006, -86.1103722], [39.8198979, -86.12695959999999], [39.7472278, -86.1966793], [39.8107114, -86.2143607], [39.7861461, -86.06785889999999], [39.7851799, -86.06071299999999], [39.7775197, -86.1842865], [39.78055639999999, -86.21312809999999], [39.7908706, -85.96912630000001], [39.7767048, -86.1983345], [39.7250057, -86.1521009]];\n",
      "                var cluster = L.markerClusterGroup({});\n",
      "\n",
      "                for (var i = 0; i &lt; data.length; i++) {\n",
      "                    var row = data[i];\n",
      "                    var marker = callback(row);\n",
      "                    marker.addTo(cluster);\n",
      "                }\n",
      "\n",
      "                cluster.addTo(map_1351acb25a7ec1f9e072fb16195c7624);\n",
      "                return cluster;\n",
      "            })();\n",
      "        \n",
      "&lt;/script&gt;\n",
      "&lt;/html&gt;\" style=\"position:absolute;width:100%;height:100%;left:0;top:0;border:none !important;\" allowfullscreen webkitallowfullscreen mozallowfullscreen></iframe></div></div>\n"
     ]
    }
   ],
   "source": [
    "print(homicide_map._repr_html_())"
   ]
  }
 ],
 "metadata": {
  "kernelspec": {
   "display_name": "Python 3 (ipykernel)",
   "language": "python",
   "name": "python3"
  },
  "language_info": {
   "codemirror_mode": {
    "name": "ipython",
    "version": 3
   },
   "file_extension": ".py",
   "mimetype": "text/x-python",
   "name": "python",
   "nbconvert_exporter": "python",
   "pygments_lexer": "ipython3",
   "version": "3.11.3"
  }
 },
 "nbformat": 4,
 "nbformat_minor": 5
}
